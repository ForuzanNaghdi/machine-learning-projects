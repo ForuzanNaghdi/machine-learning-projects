{
  "nbformat": 4,
  "nbformat_minor": 0,
  "metadata": {
    "colab": {
      "name": "Iris.ipynb",
      "provenance": [],
      "authorship_tag": "ABX9TyOZ0xQuP1oLvlBjwYCDRumA",
      "include_colab_link": true
    },
    "kernelspec": {
      "name": "python3",
      "display_name": "Python 3"
    },
    "language_info": {
      "name": "python"
    }
  },
  "cells": [
    {
      "cell_type": "markdown",
      "metadata": {
        "id": "view-in-github",
        "colab_type": "text"
      },
      "source": [
        "<a href=\"https://colab.research.google.com/github/ForuzanNaghdi/machine-learning-projects/blob/main/Iris.ipynb\" target=\"_parent\"><img src=\"https://colab.research.google.com/assets/colab-badge.svg\" alt=\"Open In Colab\"/></a>"
      ]
    },
    {
      "cell_type": "code",
      "source": [
        "import matplotlib.pyplot as plt\n",
        "%matplotlib inline\n",
        "from sklearn.metrics import accuracy_score\n",
        "import sklearn\n",
        "from sklearn.datasets import load_iris\n",
        "from sklearn.neighbors import KNeighborsClassifier\n",
        "from sklearn.model_selection import train_test_split\n",
        "import numpy as np\n",
        "from sklearn.metrics import confusion_matrix\n",
        "\n",
        "\n",
        "#******train and test process******\n",
        "iris = load_iris()#loading Data\n",
        "x, y = iris.data, iris.target#data and target\n",
        "clf = KNeighborsClassifier(n_neighbors=5)# loading KNN algorithm from sklearn\n",
        "x_train, x_test ,y_train, y_test = train_test_split(x,y,test_size= 0.2,shuffle=True, random_state=645,stratify=y)#split train and test data\n",
        "clf.fit(x_train,y_train) #Train with the introduced model\n",
        "y_perd = clf.predict(x_test)#predict by trained knn model\n",
        "test_accuracy = accuracy_score(y_test, y_perd)#calculating accuracy\n",
        "print(test_accuracy)\n",
        "\n",
        "\n",
        "#******plot the training process*****\n",
        "dates=[]\n",
        "values=[]\n",
        "for i in range(1,10):\n",
        "  clf = KNeighborsClassifier(n_neighbors=i)\n",
        "  clf.fit(x_train,y_train)\n",
        "  y_perd = clf.predict(x_test)\n",
        "  test_accuracy = accuracy_score(y_test, y_perd)\n",
        "  dates.append(i)\n",
        "  values.append(test_accuracy)\n",
        "\n",
        "plt.scatter(dates,values)\n",
        "plt.plot(dates, values)\n",
        "plt.show()\n",
        "\n",
        "#showing how well classes are predicted by a confusion matrix!\n",
        "from sklearn.metrics import confusion_matrix\n",
        "ms = confusion_matrix(y_test, y_perd)\n",
        "print(ms)\n",
        "plt.imshow(ms, cmap=plt.cm.Reds)\n",
        "plt.colorbar()\n"
      ],
      "metadata": {
        "colab": {
          "base_uri": "https://localhost:8080/",
          "height": 609
        },
        "id": "WdyQA59a2sxd",
        "outputId": "904cec98-4a13-43f6-a87f-e1372ae53d91"
      },
      "execution_count": 1,
      "outputs": [
        {
          "output_type": "stream",
          "name": "stdout",
          "text": [
            "0.9666666666666667\n"
          ]
        },
        {
          "output_type": "display_data",
          "data": {
            "text/plain": [
              "<Figure size 432x288 with 1 Axes>"
            ],
            "image/png": "[encoded data removed]"
          },
          "metadata": {
            "needs_background": "light"
          }
        },
        {
          "output_type": "stream",
          "name": "stdout",
          "text": [
            "[[10  0  0]\n",
            " [ 0  9  1]\n",
            " [ 0  0 10]]\n"
          ]
        },
        {
          "output_type": "execute_result",
          "data": {
            "text/plain": [
              "<matplotlib.colorbar.Colorbar at 0x7f8985624590>"
            ]
          },
          "metadata": {},
          "execution_count": 1
        },
        {
          "output_type": "display_data",
          "data": {
            "text/plain": [
              "<Figure size 432x288 with 2 Axes>"
            ],
            "image/png": "[encoded data removed]"
          },
          "metadata": {
            "needs_background": "light"
          }
        }
      ]
    }
  ]
}